{
 "cells": [
  {
   "cell_type": "markdown",
   "metadata": {},
   "source": [
    " # Dataset Introduction"
   ]
  },
  {
   "cell_type": "markdown",
   "metadata": {},
   "source": [
    " ## Imports"
   ]
  },
  {
   "cell_type": "code",
   "execution_count": 1,
   "metadata": {},
   "outputs": [],
   "source": [
    "import numpy as np\n",
    "import matplotlib.pyplot as plt\n",
    "import scipy.signal as ss\n"
   ]
  },
  {
   "cell_type": "markdown",
   "metadata": {},
   "source": [
    " ## Initializations"
   ]
  },
  {
   "cell_type": "code",
   "execution_count": 2,
   "metadata": {},
   "outputs": [],
   "source": [
    "np.random.seed(19)\n",
    "cpu_data_exists = False\n",
    "mem_data_exists = False\n"
   ]
  },
  {
   "cell_type": "code",
   "execution_count": 3,
   "metadata": {},
   "outputs": [],
   "source": [
    "if not cpu_data_exists:\n",
    "    cpu_data = np.load('google-cpu-full.npy')\n",
    "    np.random.shuffle(cpu_data)\n",
    "cpu_data_exists = True\n"
   ]
  },
  {
   "cell_type": "code",
   "execution_count": 4,
   "metadata": {},
   "outputs": [],
   "source": [
    "if not mem_data_exists:\n",
    "    mem_data = np.load('google-mem-full.npy')\n",
    "    np.random.shuffle(mem_data)\n",
    "mem_data_exists = True\n"
   ]
  },
  {
   "cell_type": "markdown",
   "metadata": {},
   "source": [
    " There are 12476 machines, each with 8351 datapoints."
   ]
  },
  {
   "cell_type": "code",
   "execution_count": 5,
   "metadata": {},
   "outputs": [
    {
     "name": "stdout",
     "output_type": "stream",
     "text": [
      "(12476, 8351)\n",
      "(12476, 8351)\n"
     ]
    }
   ],
   "source": [
    "print(cpu_data.shape)\n",
    "print(mem_data.shape)\n",
    "\n",
    "assert cpu_data.shape == mem_data.shape\n",
    "\n",
    "no_of_machines = cpu_data.shape[0]\n",
    "no_of_timestamps = cpu_data.shape[1]\n"
   ]
  },
  {
   "cell_type": "markdown",
   "metadata": {},
   "source": [
    " We take a subsample of the machines. The dataset in its entirety is extremely\n",
    " large so for basic exploratory analysis it would burden us with too much\n",
    " computing workload without providing any further insight that is of\n",
    " significance."
   ]
  },
  {
   "cell_type": "code",
   "execution_count": 6,
   "metadata": {},
   "outputs": [],
   "source": [
    "spatial_sample_size = 200\n",
    "cpu_spatial_sample = cpu_data[:spatial_sample_size]\n",
    "mem_spatial_sample = mem_data[:spatial_sample_size]\n",
    "\n",
    "cpu_spatial_correlations = np.empty(\n",
    "    (spatial_sample_size, spatial_sample_size-1))\n",
    "mem_spatial_correlations = np.empty(\n",
    "    (spatial_sample_size, spatial_sample_size-1))\n",
    "spatial_correlations = {\n",
    "    'CPU': cpu_spatial_correlations, 'MEM': mem_spatial_correlations}\n"
   ]
  },
  {
   "cell_type": "code",
   "execution_count": 7,
   "metadata": {},
   "outputs": [],
   "source": [
    "temporal_sample_size = 200\n",
    "cpu_temporal_sample = cpu_data[:temporal_sample_size]\n",
    "mem_temporal_sample = mem_data[:temporal_sample_size]\n",
    "\n",
    "cpu_temporal_correlations = np.empty(\n",
    "    (temporal_sample_size, 2*no_of_timestamps-1))\n",
    "mem_temporal_correlations = np.empty(\n",
    "    (temporal_sample_size, 2*no_of_timestamps-1))\n",
    "temporal_correlations = {\n",
    "    'CPU': cpu_temporal_correlations, 'MEM': mem_temporal_correlations}\n"
   ]
  },
  {
   "cell_type": "markdown",
   "metadata": {},
   "source": [
    " We will be focusing on cpu and memory usage data."
   ]
  },
  {
   "cell_type": "code",
   "execution_count": 8,
   "metadata": {},
   "outputs": [
    {
     "data": {
      "image/png": "[encoded data removed]",
      "text/plain": [
       "<Figure size 432x288 with 2 Axes>"
      ]
     },
     "metadata": {
      "needs_background": "light"
     },
     "output_type": "display_data"
    }
   ],
   "source": [
    "plt.subplot(121).plot(cpu_data[0])\n",
    "plt.title('CPU data')\n",
    "plt.subplot(122).plot(mem_data[0])\n",
    "plt.title('MEM data')\n",
    "plt.show()\n"
   ]
  },
  {
   "cell_type": "markdown",
   "metadata": {},
   "source": [
    " ## Exploratory Analysis"
   ]
  },
  {
   "cell_type": "code",
   "execution_count": 9,
   "metadata": {},
   "outputs": [],
   "source": [
    "def ccf(x, y, no_lag=False):\n",
    "    '''Normalized cross-correlation function,\n",
    "    similar to ccf in the R language.\n",
    "    \n",
    "    Parameters:\n",
    "    x -- first time series\n",
    "    y --  second time series\n",
    "    \n",
    "    Optional:\n",
    "    no_lag -- False by default. If true, return a list with every time-shift\n",
    "        possible instead.\n",
    "    \n",
    "    Returns:\n",
    "        A float with 0 time-shift or a list of floats that represent the\n",
    "        cross-correlation for every possible time-shift.\n",
    "    '''\n",
    "    if np.std(y) * np.std(x) == 0:\n",
    "        return 0\n",
    "    else:\n",
    "        correlation = (\n",
    "            np.correlate(y - np.mean(y), x - np.mean(x))\n",
    "            if no_lag else ss.correlate(y - np.mean(y), x - np.mean(x)))\n",
    "        return correlation / (np.std(y) * np.std(x) * len(y))\n"
   ]
  },
  {
   "cell_type": "markdown",
   "metadata": {},
   "source": [
    " ### Spatial Correlation"
   ]
  },
  {
   "cell_type": "markdown",
   "metadata": {},
   "source": [
    " Calculate the spatial correlation between every possible pair of machines\n",
    " in our subsample. Do not include any time-shift. Do not include a machine's\n",
    " correlation with itself (by definition this will be 1)."
   ]
  },
  {
   "cell_type": "code",
   "execution_count": 10,
   "metadata": {},
   "outputs": [],
   "source": [
    "for i in range(spatial_sample_size):\n",
    "    k=0\n",
    "    for j in range(spatial_sample_size):\n",
    "        #If the first and second machine are the same one, skip.\n",
    "        if i != j:\n",
    "            machine_x = cpu_spatial_sample[i]\n",
    "            machine_y = cpu_spatial_sample[j]\n",
    "            cpu_spatial_correlations[i, k] = ccf(machine_x,\n",
    "                                                 machine_y,\n",
    "                                                 no_lag=True)\n",
    "            machine_x = mem_spatial_sample[i]\n",
    "            machine_y = mem_spatial_sample[j]\n",
    "            mem_spatial_correlations[i, k] = ccf(machine_x,\n",
    "                                                 machine_y,\n",
    "                                                 no_lag=True)\n",
    "            k += 1\n",
    "    i += 1\n"
   ]
  },
  {
   "cell_type": "markdown",
   "metadata": {},
   "source": [
    " Have a look at how high the spatial correlation values seem to be."
   ]
  },
  {
   "cell_type": "code",
   "execution_count": 0,
   "metadata": {},
   "outputs": [],
   "source": [
    "i = 1\n",
    "for correlations in spatial_correlations:\n",
    "    corr = spatial_correlations[correlations]\n",
    "    abs_correlations = np.abs(corr)\n",
    "    print(correlations, 'Maximum:', np.amax(corr))\n",
    "    print(correlations, 'Minimum:', np.amin(corr))\n",
    "    print(correlations, 'Average:', np.average(corr))\n",
    "    print(correlations, 'RMS:', np.sqrt(np.mean(abs_correlations)))\n",
    "    values, base = np.histogram(corr, bins=[n/100 for n in range(-85, 99)])\n",
    "\n",
    "    ax0 = plt.subplot(len(spatial_correlations), 1, i)\n",
    "    ax0.plot(base[:-1], values)\n",
    "    ax1 = ax0.twinx()  # instantiate a second axes that shares the same x-axis\n",
    "    ax1.plot(base[:-1], np.cumsum(values), '-',\n",
    "             2*[np.average(corr)], [0, 40000], '--')\n",
    "    plt.xticks([n/4 for n in range (-2, 4)])\n",
    "    plt.title(correlations + ' Spatial Correlations')\n",
    "    i += 1\n",
    "\n",
    "plt.tight_layout()\n",
    "plt.show()\n"
   ]
  },
  {
   "cell_type": "code",
   "execution_count": 0,
   "metadata": {},
   "outputs": [],
   "source": [
    "for i in range(spatial_sample_size):\n",
    "    k=0\n",
    "    for j in range(spatial_sample_size):\n",
    "        #If the first and second machine are the same one, skip.\n",
    "        if i != j:\n",
    "            machine_x = cpu_spatial_sample[i]\n",
    "            machine_y = cpu_spatial_sample[j]\n",
    "            index = len(machine_x)//2\n",
    "            machine_x = machine_x[index:]\n",
    "            machine_y = machine_y[index:]\n",
    "            cpu_spatial_correlations[i, k] = ccf(machine_x,\n",
    "                                                 machine_y,\n",
    "                                                 no_lag=True)\n",
    "            machine_x = mem_spatial_sample[i]\n",
    "            machine_y = mem_spatial_sample[j]\n",
    "            machine_x = machine_x[index:]\n",
    "            machine_y = machine_y[index:]\n",
    "            mem_spatial_correlations[i, k] = ccf(machine_x,\n",
    "                                                 machine_y,\n",
    "                                                 no_lag=True)\n",
    "            k += 1\n",
    "    i += 1\n"
   ]
  },
  {
   "cell_type": "code",
   "execution_count": 0,
   "metadata": {},
   "outputs": [],
   "source": [
    "i = 1\n",
    "for correlations in spatial_correlations:\n",
    "    corr = spatial_correlations[correlations]\n",
    "    abs_correlations = np.abs(corr)\n",
    "    print(correlations, 'Maximum:', np.amax(corr))\n",
    "    print(correlations, 'Minimum:', np.amin(corr))\n",
    "    print(correlations, 'Average:', np.average(corr))\n",
    "    print(correlations, 'RMS:', np.sqrt(np.mean(abs_correlations)))\n",
    "    values, base = np.histogram(corr, bins=[n/100 for n in range(-85, 101)])\n",
    "\n",
    "    ax0 = plt.subplot(len(spatial_correlations), 1, i)\n",
    "    ax0.plot(base[:-1], values)\n",
    "    ax1 = ax0.twinx()  # instantiate a second axes that shares the same x-axis\n",
    "    ax1.plot(base[:-1], np.cumsum(values), '-',\n",
    "             2*[np.average(corr)], [0, 40000], '--')\n",
    "    plt.xticks([n/4 for n in range (-2, 6)])\n",
    "    plt.title(correlations + ' Spatial Correlations')\n",
    "    i += 1\n",
    "\n",
    "plt.tight_layout()\n",
    "plt.show()\n"
   ]
  },
  {
   "cell_type": "markdown",
   "metadata": {},
   "source": [
    " ### Temporal Correlation"
   ]
  },
  {
   "cell_type": "markdown",
   "metadata": {},
   "source": [
    " Calculate the temporal correlation of each time series with itself,\n",
    " at every possible time-shift."
   ]
  },
  {
   "cell_type": "code",
   "execution_count": 0,
   "metadata": {},
   "outputs": [],
   "source": [
    "for i in range(temporal_sample_size):\n",
    "    cpu_temporal_correlations[i] = ccf(\n",
    "        cpu_temporal_sample[i],\n",
    "        cpu_temporal_sample[i])\n",
    "    mem_temporal_correlations[i] = ccf(\n",
    "        mem_temporal_sample[i],\n",
    "        mem_temporal_sample[i])\n"
   ]
  },
  {
   "cell_type": "markdown",
   "metadata": {},
   "source": [
    " Have a look at the average temporal correlation for each time shift."
   ]
  },
  {
   "cell_type": "code",
   "execution_count": 0,
   "metadata": {},
   "outputs": [],
   "source": [
    "i = 1\n",
    "zero_shift_timestamp = no_of_timestamps-1\n",
    "days_to_minutes = 24*60\n",
    "daily_vertical_range = [0, 1]\n",
    "weekly_vertical_range = [-0.1, 0.5]\n",
    "for correlations in temporal_correlations:\n",
    "    avg_correlation = np.average(temporal_correlations[correlations], axis=0)\n",
    "\n",
    "    # Demonstrate daily periodicity.\n",
    "\n",
    "    # One unit of time equals 5 minutes.\n",
    "    time_window = (\n",
    "        zero_shift_timestamp - 4 * days_to_minutes // 5,\n",
    "        zero_shift_timestamp + 4 * days_to_minutes // 5)\n",
    "    plt.subplot(len(temporal_correlations), 2, i).plot(\n",
    "        # One unit of time equals 5 minutes.\n",
    "        [5 * (x - zero_shift_timestamp) / days_to_minutes\n",
    "         for x in range(len(avg_correlation))][time_window[0]:time_window[1]],\n",
    "        avg_correlation[time_window[0]:time_window[1]], '-',\n",
    "        # zero time-shift\n",
    "        2*[0], daily_vertical_range, '--',\n",
    "        # +/- a few days\n",
    "        2*[1], daily_vertical_range, '--',\n",
    "        2*[-1], daily_vertical_range, '--',\n",
    "        2*[2], daily_vertical_range, '--',\n",
    "        2*[-2], daily_vertical_range, '--',\n",
    "        2*[3], daily_vertical_range, '--',\n",
    "        2*[-3], daily_vertical_range, '--')\n",
    "    plt.title(correlations + ' Daily Periodicity')\n",
    "    plt.xlabel('Time-shift (Days)')\n",
    "    plt.ylabel('Cross-correlation')\n",
    "    i += 1\n",
    "    \n",
    "    # Demonstrate weekly periodicity.\n",
    "\n",
    "    # One unit of time equals 5 minutes.\n",
    "    time_window = (\n",
    "        zero_shift_timestamp - 4 * 7 * days_to_minutes // 5,\n",
    "        zero_shift_timestamp + 4 * 7 * days_to_minutes // 5)\n",
    "    smoothed = ss.medfilt(avg_correlation, kernel_size=249)\n",
    "    plt.subplot(len(temporal_correlations), 2, i).plot(\n",
    "        # One unit of time equals 5 minutes.\n",
    "        [5 * (x - zero_shift_timestamp) / (7 * days_to_minutes)\n",
    "         for x in range(len(smoothed))][time_window[0]:time_window[1]],\n",
    "        smoothed[time_window[0]:time_window[1]], '-',\n",
    "        # zero time-shift\n",
    "        2*[0], weekly_vertical_range, '--',\n",
    "        # +/- a few weeks\n",
    "        2*[1], weekly_vertical_range, '--',\n",
    "        2*[-1], weekly_vertical_range, '--',\n",
    "        2*[2], weekly_vertical_range, '--',\n",
    "        2*[-2], weekly_vertical_range, '--',\n",
    "        2*[3], weekly_vertical_range, '--',\n",
    "        2*[-3], weekly_vertical_range, '--')\n",
    "    plt.title(correlations + ' Weekly Periodicity')\n",
    "    plt.xlabel('Time-shift (Weeks)')\n",
    "    plt.ylabel('Cross-correlation')\n",
    "    i += 1\n",
    "\n",
    "plt.tight_layout()\n",
    "plt.show()\n"
   ]
  },
  {
   "cell_type": "code",
   "execution_count": 0,
   "metadata": {},
   "outputs": [],
   "source": [
    "for correlations in temporal_correlations:\n",
    "    avg_correlation = np.average(temporal_correlations[correlations], axis=0)\n",
    "    print(correlations, 'Average Correlation:', np.average(avg_correlation))\n",
    "    print(correlations, 'RMS Correlation:',\n",
    "          np.sqrt(np.mean(avg_correlation**2)))\n",
    "    plt.hist(avg_correlation, bins=[n/10 for n in range(-10, 11)])\n",
    "    plt.title(correlations + ' Temporal Correlations')\n",
    "    plt.show()\n"
   ]
  },
  {
   "cell_type": "code",
   "execution_count": 0,
   "metadata": {},
   "outputs": [],
   "source": [
    "for correlations in temporal_correlations:\n",
    "    avg_correlation = np.average(temporal_correlations[correlations], axis=0)\n",
    "    daily_timestamps = (\n",
    "        [zero_shift_timestamp + n * days_to_minutes // 5 for n in range(-1, 2)])\n",
    "    daily_timestamps = daily_timestamps[:1] + daily_timestamps [2:]\n",
    "    daily_corr = np.array(\n",
    "        [avg_correlation[timestamp] for timestamp in daily_timestamps])\n",
    "        \n",
    "    print(correlations, 'Average Correlation:', np.average(daily_corr))\n",
    "    print(correlations, 'RMS Correlation:',\n",
    "          np.sqrt(np.mean(daily_corr**2)))\n",
    "    plt.hist(daily_corr, bins=[n/10 for n in range(-10, 11)])\n",
    "    plt.title(correlations + ' Temporal Correlations')\n",
    "    plt.show()\n",
    "\n"
   ]
  },
  {
   "cell_type": "code",
   "execution_count": 0,
   "metadata": {},
   "outputs": [],
   "source": []
  }
 ],
 "metadata": {
  "file_extension": ".py",
  "kernelspec": {
   "display_name": "Python 3",
   "language": "python",
   "name": "python3"
  },
  "language_info": {
   "codemirror_mode": {
    "name": "ipython",
    "version": 3
   },
   "file_extension": ".py",
   "mimetype": "text/x-python",
   "name": "python",
   "nbconvert_exporter": "python",
   "pygments_lexer": "ipython3",
   "version": "3.7.2"
  },
  "mimetype": "text/x-python",
  "name": "python",
  "npconvert_exporter": "python",
  "pygments_lexer": "ipython3",
  "version": 3
 },
 "nbformat": 4,
 "nbformat_minor": 2
}
